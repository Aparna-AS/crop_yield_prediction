{
 "cells": [
  {
   "cell_type": "markdown",
   "id": "7a8cd803",
   "metadata": {},
   "source": [
    "# Crop Yield Prediction"
   ]
  },
  {
   "cell_type": "code",
   "execution_count": 1,
   "id": "212d564a",
   "metadata": {},
   "outputs": [],
   "source": [
    "import pandas as pd\n",
    "import numpy as np\n",
    "import matplotlib.pyplot as plt\n",
    "import seaborn as sns\n",
    "from sklearn.preprocessing import StandardScaler,MinMaxScaler\n",
    "from sklearn.model_selection import train_test_split\n",
    "from sklearn.linear_model import LinearRegression\n",
    "from sklearn.ensemble import RandomForestRegressor \n",
    "from sklearn.metrics import mean_squared_error,mean_absolute_error,r2_score\n",
    "import pickle"
   ]
  },
  {
   "cell_type": "markdown",
   "id": "3591e313",
   "metadata": {},
   "source": [
    "# Dataset"
   ]
  },
  {
   "cell_type": "code",
   "execution_count": 3,
   "id": "72a2a77a",
   "metadata": {
    "scrolled": true
   },
   "outputs": [
    {
     "ename": "FileNotFoundError",
     "evalue": "[Errno 2] No such file or directory: 'C:/Users/Windows PC/crop_yield_prediction/complete_dataset.csv'",
     "output_type": "error",
     "traceback": [
      "\u001b[1;31m---------------------------------------------------------------------------\u001b[0m",
      "\u001b[1;31mFileNotFoundError\u001b[0m                         Traceback (most recent call last)",
      "\u001b[1;32m~\\AppData\\Local\\Temp\\ipykernel_6656\\1377494571.py\u001b[0m in \u001b[0;36m<module>\u001b[1;34m\u001b[0m\n\u001b[1;32m----> 1\u001b[1;33m \u001b[0mdata\u001b[0m\u001b[1;33m=\u001b[0m\u001b[0mpd\u001b[0m\u001b[1;33m.\u001b[0m\u001b[0mread_csv\u001b[0m\u001b[1;33m(\u001b[0m\u001b[1;34m'C:/Users/Windows PC/crop_yield_prediction/complete_dataset.csv'\u001b[0m\u001b[1;33m)\u001b[0m\u001b[1;33m\u001b[0m\u001b[1;33m\u001b[0m\u001b[0m\n\u001b[0m",
      "\u001b[1;32mC:\\ProgramData\\Anaconda3\\lib\\site-packages\\pandas\\util\\_decorators.py\u001b[0m in \u001b[0;36mwrapper\u001b[1;34m(*args, **kwargs)\u001b[0m\n\u001b[0;32m    309\u001b[0m                     \u001b[0mstacklevel\u001b[0m\u001b[1;33m=\u001b[0m\u001b[0mstacklevel\u001b[0m\u001b[1;33m,\u001b[0m\u001b[1;33m\u001b[0m\u001b[1;33m\u001b[0m\u001b[0m\n\u001b[0;32m    310\u001b[0m                 )\n\u001b[1;32m--> 311\u001b[1;33m             \u001b[1;32mreturn\u001b[0m \u001b[0mfunc\u001b[0m\u001b[1;33m(\u001b[0m\u001b[1;33m*\u001b[0m\u001b[0margs\u001b[0m\u001b[1;33m,\u001b[0m \u001b[1;33m**\u001b[0m\u001b[0mkwargs\u001b[0m\u001b[1;33m)\u001b[0m\u001b[1;33m\u001b[0m\u001b[1;33m\u001b[0m\u001b[0m\n\u001b[0m\u001b[0;32m    312\u001b[0m \u001b[1;33m\u001b[0m\u001b[0m\n\u001b[0;32m    313\u001b[0m         \u001b[1;32mreturn\u001b[0m \u001b[0mwrapper\u001b[0m\u001b[1;33m\u001b[0m\u001b[1;33m\u001b[0m\u001b[0m\n",
      "\u001b[1;32mC:\\ProgramData\\Anaconda3\\lib\\site-packages\\pandas\\io\\parsers\\readers.py\u001b[0m in \u001b[0;36mread_csv\u001b[1;34m(filepath_or_buffer, sep, delimiter, header, names, index_col, usecols, squeeze, prefix, mangle_dupe_cols, dtype, engine, converters, true_values, false_values, skipinitialspace, skiprows, skipfooter, nrows, na_values, keep_default_na, na_filter, verbose, skip_blank_lines, parse_dates, infer_datetime_format, keep_date_col, date_parser, dayfirst, cache_dates, iterator, chunksize, compression, thousands, decimal, lineterminator, quotechar, quoting, doublequote, escapechar, comment, encoding, encoding_errors, dialect, error_bad_lines, warn_bad_lines, on_bad_lines, delim_whitespace, low_memory, memory_map, float_precision, storage_options)\u001b[0m\n\u001b[0;32m    676\u001b[0m     \u001b[0mkwds\u001b[0m\u001b[1;33m.\u001b[0m\u001b[0mupdate\u001b[0m\u001b[1;33m(\u001b[0m\u001b[0mkwds_defaults\u001b[0m\u001b[1;33m)\u001b[0m\u001b[1;33m\u001b[0m\u001b[1;33m\u001b[0m\u001b[0m\n\u001b[0;32m    677\u001b[0m \u001b[1;33m\u001b[0m\u001b[0m\n\u001b[1;32m--> 678\u001b[1;33m     \u001b[1;32mreturn\u001b[0m \u001b[0m_read\u001b[0m\u001b[1;33m(\u001b[0m\u001b[0mfilepath_or_buffer\u001b[0m\u001b[1;33m,\u001b[0m \u001b[0mkwds\u001b[0m\u001b[1;33m)\u001b[0m\u001b[1;33m\u001b[0m\u001b[1;33m\u001b[0m\u001b[0m\n\u001b[0m\u001b[0;32m    679\u001b[0m \u001b[1;33m\u001b[0m\u001b[0m\n\u001b[0;32m    680\u001b[0m \u001b[1;33m\u001b[0m\u001b[0m\n",
      "\u001b[1;32mC:\\ProgramData\\Anaconda3\\lib\\site-packages\\pandas\\io\\parsers\\readers.py\u001b[0m in \u001b[0;36m_read\u001b[1;34m(filepath_or_buffer, kwds)\u001b[0m\n\u001b[0;32m    573\u001b[0m \u001b[1;33m\u001b[0m\u001b[0m\n\u001b[0;32m    574\u001b[0m     \u001b[1;31m# Create the parser.\u001b[0m\u001b[1;33m\u001b[0m\u001b[1;33m\u001b[0m\u001b[0m\n\u001b[1;32m--> 575\u001b[1;33m     \u001b[0mparser\u001b[0m \u001b[1;33m=\u001b[0m \u001b[0mTextFileReader\u001b[0m\u001b[1;33m(\u001b[0m\u001b[0mfilepath_or_buffer\u001b[0m\u001b[1;33m,\u001b[0m \u001b[1;33m**\u001b[0m\u001b[0mkwds\u001b[0m\u001b[1;33m)\u001b[0m\u001b[1;33m\u001b[0m\u001b[1;33m\u001b[0m\u001b[0m\n\u001b[0m\u001b[0;32m    576\u001b[0m \u001b[1;33m\u001b[0m\u001b[0m\n\u001b[0;32m    577\u001b[0m     \u001b[1;32mif\u001b[0m \u001b[0mchunksize\u001b[0m \u001b[1;32mor\u001b[0m \u001b[0miterator\u001b[0m\u001b[1;33m:\u001b[0m\u001b[1;33m\u001b[0m\u001b[1;33m\u001b[0m\u001b[0m\n",
      "\u001b[1;32mC:\\ProgramData\\Anaconda3\\lib\\site-packages\\pandas\\io\\parsers\\readers.py\u001b[0m in \u001b[0;36m__init__\u001b[1;34m(self, f, engine, **kwds)\u001b[0m\n\u001b[0;32m    930\u001b[0m \u001b[1;33m\u001b[0m\u001b[0m\n\u001b[0;32m    931\u001b[0m         \u001b[0mself\u001b[0m\u001b[1;33m.\u001b[0m\u001b[0mhandles\u001b[0m\u001b[1;33m:\u001b[0m \u001b[0mIOHandles\u001b[0m \u001b[1;33m|\u001b[0m \u001b[1;32mNone\u001b[0m \u001b[1;33m=\u001b[0m \u001b[1;32mNone\u001b[0m\u001b[1;33m\u001b[0m\u001b[1;33m\u001b[0m\u001b[0m\n\u001b[1;32m--> 932\u001b[1;33m         \u001b[0mself\u001b[0m\u001b[1;33m.\u001b[0m\u001b[0m_engine\u001b[0m \u001b[1;33m=\u001b[0m \u001b[0mself\u001b[0m\u001b[1;33m.\u001b[0m\u001b[0m_make_engine\u001b[0m\u001b[1;33m(\u001b[0m\u001b[0mf\u001b[0m\u001b[1;33m,\u001b[0m \u001b[0mself\u001b[0m\u001b[1;33m.\u001b[0m\u001b[0mengine\u001b[0m\u001b[1;33m)\u001b[0m\u001b[1;33m\u001b[0m\u001b[1;33m\u001b[0m\u001b[0m\n\u001b[0m\u001b[0;32m    933\u001b[0m \u001b[1;33m\u001b[0m\u001b[0m\n\u001b[0;32m    934\u001b[0m     \u001b[1;32mdef\u001b[0m \u001b[0mclose\u001b[0m\u001b[1;33m(\u001b[0m\u001b[0mself\u001b[0m\u001b[1;33m)\u001b[0m\u001b[1;33m:\u001b[0m\u001b[1;33m\u001b[0m\u001b[1;33m\u001b[0m\u001b[0m\n",
      "\u001b[1;32mC:\\ProgramData\\Anaconda3\\lib\\site-packages\\pandas\\io\\parsers\\readers.py\u001b[0m in \u001b[0;36m_make_engine\u001b[1;34m(self, f, engine)\u001b[0m\n\u001b[0;32m   1214\u001b[0m             \u001b[1;31m# \"Union[str, PathLike[str], ReadCsvBuffer[bytes], ReadCsvBuffer[str]]\"\u001b[0m\u001b[1;33m\u001b[0m\u001b[1;33m\u001b[0m\u001b[0m\n\u001b[0;32m   1215\u001b[0m             \u001b[1;31m# , \"str\", \"bool\", \"Any\", \"Any\", \"Any\", \"Any\", \"Any\"\u001b[0m\u001b[1;33m\u001b[0m\u001b[1;33m\u001b[0m\u001b[0m\n\u001b[1;32m-> 1216\u001b[1;33m             self.handles = get_handle(  # type: ignore[call-overload]\n\u001b[0m\u001b[0;32m   1217\u001b[0m                 \u001b[0mf\u001b[0m\u001b[1;33m,\u001b[0m\u001b[1;33m\u001b[0m\u001b[1;33m\u001b[0m\u001b[0m\n\u001b[0;32m   1218\u001b[0m                 \u001b[0mmode\u001b[0m\u001b[1;33m,\u001b[0m\u001b[1;33m\u001b[0m\u001b[1;33m\u001b[0m\u001b[0m\n",
      "\u001b[1;32mC:\\ProgramData\\Anaconda3\\lib\\site-packages\\pandas\\io\\common.py\u001b[0m in \u001b[0;36mget_handle\u001b[1;34m(path_or_buf, mode, encoding, compression, memory_map, is_text, errors, storage_options)\u001b[0m\n\u001b[0;32m    784\u001b[0m         \u001b[1;32mif\u001b[0m \u001b[0mioargs\u001b[0m\u001b[1;33m.\u001b[0m\u001b[0mencoding\u001b[0m \u001b[1;32mand\u001b[0m \u001b[1;34m\"b\"\u001b[0m \u001b[1;32mnot\u001b[0m \u001b[1;32min\u001b[0m \u001b[0mioargs\u001b[0m\u001b[1;33m.\u001b[0m\u001b[0mmode\u001b[0m\u001b[1;33m:\u001b[0m\u001b[1;33m\u001b[0m\u001b[1;33m\u001b[0m\u001b[0m\n\u001b[0;32m    785\u001b[0m             \u001b[1;31m# Encoding\u001b[0m\u001b[1;33m\u001b[0m\u001b[1;33m\u001b[0m\u001b[0m\n\u001b[1;32m--> 786\u001b[1;33m             handle = open(\n\u001b[0m\u001b[0;32m    787\u001b[0m                 \u001b[0mhandle\u001b[0m\u001b[1;33m,\u001b[0m\u001b[1;33m\u001b[0m\u001b[1;33m\u001b[0m\u001b[0m\n\u001b[0;32m    788\u001b[0m                 \u001b[0mioargs\u001b[0m\u001b[1;33m.\u001b[0m\u001b[0mmode\u001b[0m\u001b[1;33m,\u001b[0m\u001b[1;33m\u001b[0m\u001b[1;33m\u001b[0m\u001b[0m\n",
      "\u001b[1;31mFileNotFoundError\u001b[0m: [Errno 2] No such file or directory: 'C:/Users/Windows PC/crop_yield_prediction/complete_dataset.csv'"
     ]
    }
   ],
   "source": [
    "data=pd.read_csv('C:/Users/Windows PC/crop_yield_prediction/complete_dataset.csv')"
   ]
  },
  {
   "cell_type": "code",
   "execution_count": null,
   "id": "4ea701f6",
   "metadata": {},
   "outputs": [],
   "source": [
    "data=data[data['crop_year']>=2004]"
   ]
  },
  {
   "cell_type": "code",
   "execution_count": null,
   "id": "240b0608",
   "metadata": {},
   "outputs": [],
   "source": [
    "data=data.drop(['soil_type','season_names','crop_year'],axis=1)"
   ]
  },
  {
   "cell_type": "code",
   "execution_count": null,
   "id": "00fdd03d",
   "metadata": {},
   "outputs": [],
   "source": [
    " data.info()"
   ]
  },
  {
   "cell_type": "code",
   "execution_count": null,
   "id": "f473f312",
   "metadata": {},
   "outputs": [],
   "source": [
    "data['crop_names'].unique()"
   ]
  },
  {
   "cell_type": "code",
   "execution_count": null,
   "id": "067d1ac8",
   "metadata": {},
   "outputs": [],
   "source": [
    "crops=['Rice','Banana','Maize','Cotton(lint)','Onion','Potato','Tomato','Carrot','Drum Stick','Ragi']\n",
    "data=data[data['crop_names'].isin(crops)]\n",
    "data['crop_names'].unique()"
   ]
  },
  {
   "cell_type": "code",
   "execution_count": null,
   "id": "61fd6599",
   "metadata": {},
   "outputs": [],
   "source": [
    "data.shape"
   ]
  },
  {
   "cell_type": "code",
   "execution_count": null,
   "id": "c3e7ab70",
   "metadata": {
    "scrolled": true
   },
   "outputs": [],
   "source": [
    "data.isnull().sum()"
   ]
  },
  {
   "cell_type": "code",
   "execution_count": null,
   "id": "79d5461d",
   "metadata": {},
   "outputs": [],
   "source": [
    "data.describe()"
   ]
  },
  {
   "cell_type": "code",
   "execution_count": null,
   "id": "8da848b3",
   "metadata": {},
   "outputs": [],
   "source": [
    "data=data[data['production']>0]"
   ]
  },
  {
   "cell_type": "code",
   "execution_count": null,
   "id": "b3f7918a",
   "metadata": {},
   "outputs": [],
   "source": [
    "sns.scatterplot(x=data['temperature'],y=data['production'])"
   ]
  },
  {
   "cell_type": "code",
   "execution_count": null,
   "id": "a61b6b63",
   "metadata": {},
   "outputs": [],
   "source": [
    "data=data[data['temperature']>10]"
   ]
  },
  {
   "cell_type": "code",
   "execution_count": null,
   "id": "361dc489",
   "metadata": {},
   "outputs": [],
   "source": [
    "sns.boxplot(data=data,orient='h')"
   ]
  },
  {
   "cell_type": "code",
   "execution_count": null,
   "id": "1d0371e8",
   "metadata": {},
   "outputs": [],
   "source": [
    "Q3 = np.percentile(data['production'], 75,\n",
    "                   interpolation = 'midpoint')\n",
    "\n",
    "data=data[data['production']<=(Q3)]\n",
    "data.shape"
   ]
  },
  {
   "cell_type": "code",
   "execution_count": null,
   "id": "3fb8536d",
   "metadata": {},
   "outputs": [],
   "source": [
    "data.corr()"
   ]
  },
  {
   "cell_type": "code",
   "execution_count": null,
   "id": "0a049819",
   "metadata": {
    "scrolled": false
   },
   "outputs": [],
   "source": [
    "fig=plt.figure(figsize = (10,10))\n",
    "sns.heatmap(data.corr(), vmax=.9,square=True)\n",
    "plt.show()"
   ]
  },
  {
   "cell_type": "code",
   "execution_count": null,
   "id": "e5cf4faa",
   "metadata": {},
   "outputs": [],
   "source": [
    "data['yield']=data['production']/data['area']"
   ]
  },
  {
   "cell_type": "code",
   "execution_count": null,
   "id": "8a7f3983",
   "metadata": {},
   "outputs": [],
   "source": [
    "data=data.drop(['precipitation'],axis=1)\n",
    "data.columns"
   ]
  },
  {
   "cell_type": "code",
   "execution_count": null,
   "id": "7d08fff0",
   "metadata": {},
   "outputs": [],
   "source": [
    "data.info()"
   ]
  },
  {
   "cell_type": "markdown",
   "id": "c128d013",
   "metadata": {},
   "source": [
    "# Indipendent and Dependent variables"
   ]
  },
  {
   "cell_type": "code",
   "execution_count": null,
   "id": "bac5b5a5",
   "metadata": {},
   "outputs": [],
   "source": [
    "X=data.iloc[:,0:10]\n",
    "Y=data.iloc[:,11]"
   ]
  },
  {
   "cell_type": "code",
   "execution_count": null,
   "id": "bb8ba05c",
   "metadata": {},
   "outputs": [],
   "source": [
    "Y"
   ]
  },
  {
   "cell_type": "code",
   "execution_count": null,
   "id": "34036a16",
   "metadata": {},
   "outputs": [],
   "source": [
    "X"
   ]
  },
  {
   "cell_type": "code",
   "execution_count": null,
   "id": "ab4035a8",
   "metadata": {},
   "outputs": [],
   "source": [
    "X.info()"
   ]
  },
  {
   "cell_type": "markdown",
   "id": "f683f10d",
   "metadata": {},
   "source": [
    "## dummy encoding classfication features"
   ]
  },
  {
   "cell_type": "code",
   "execution_count": null,
   "id": "49f38898",
   "metadata": {},
   "outputs": [],
   "source": [
    "X=X.join(pd.get_dummies(X['district_names']))\n",
    "X=X.join(pd.get_dummies(X['crop_names']))\n",
    "X=X.join(pd.get_dummies(X['state_names']))\n",
    "X.shape"
   ]
  },
  {
   "cell_type": "code",
   "execution_count": null,
   "id": "c5e4ffb9",
   "metadata": {},
   "outputs": [],
   "source": [
    "X.drop(['district_names','crop_names','state_names'],axis=1)"
   ]
  },
  {
   "cell_type": "code",
   "execution_count": null,
   "id": "f4e54d80",
   "metadata": {},
   "outputs": [],
   "source": [
    "X=X.drop(['district_names','crop_names','state_names',],axis=1)"
   ]
  },
  {
   "cell_type": "code",
   "execution_count": null,
   "id": "72646620",
   "metadata": {
    "scrolled": true
   },
   "outputs": [],
   "source": [
    "X.info()"
   ]
  },
  {
   "cell_type": "code",
   "execution_count": null,
   "id": "c1148439",
   "metadata": {},
   "outputs": [],
   "source": [
    "X.columns"
   ]
  },
  {
   "cell_type": "code",
   "execution_count": null,
   "id": "c8c60bc0",
   "metadata": {},
   "outputs": [],
   "source": [
    "feature_listxyz=[0]*len(X.columns)"
   ]
  },
  {
   "cell_type": "code",
   "execution_count": null,
   "id": "d5f7c65b",
   "metadata": {},
   "outputs": [],
   "source": [
    "feature_list=[]\n",
    "for i in X.columns:\n",
    "    feature_list.append(i)"
   ]
  },
  {
   "cell_type": "code",
   "execution_count": null,
   "id": "084af9f7",
   "metadata": {
    "scrolled": true
   },
   "outputs": [],
   "source": [
    "feature_list"
   ]
  },
  {
   "cell_type": "markdown",
   "id": "0a991254",
   "metadata": {},
   "source": [
    "## Test and Train split dataset"
   ]
  },
  {
   "cell_type": "code",
   "execution_count": null,
   "id": "ea3bdd03",
   "metadata": {},
   "outputs": [],
   "source": [
    "X_train,X_test,Y_train,Y_test=train_test_split(X,Y,test_size=0.3,random_state=39)"
   ]
  },
  {
   "cell_type": "code",
   "execution_count": null,
   "id": "325b01cb",
   "metadata": {},
   "outputs": [],
   "source": [
    "X_train"
   ]
  },
  {
   "cell_type": "code",
   "execution_count": null,
   "id": "be0b8c3b",
   "metadata": {},
   "outputs": [],
   "source": [
    "Y_train"
   ]
  },
  {
   "cell_type": "code",
   "execution_count": null,
   "id": "85257603",
   "metadata": {},
   "outputs": [],
   "source": [
    "X_test"
   ]
  },
  {
   "cell_type": "code",
   "execution_count": null,
   "id": "6c8be6fb",
   "metadata": {
    "scrolled": false
   },
   "outputs": [],
   "source": [
    "Y_test"
   ]
  },
  {
   "cell_type": "markdown",
   "id": "9e074fae",
   "metadata": {},
   "source": [
    "## Normalization"
   ]
  },
  {
   "cell_type": "code",
   "execution_count": null,
   "id": "02a0beac",
   "metadata": {},
   "outputs": [],
   "source": [
    "scalar=StandardScaler()"
   ]
  },
  {
   "cell_type": "code",
   "execution_count": null,
   "id": "7c361c14",
   "metadata": {},
   "outputs": [],
   "source": [
    "X_train=scalar.fit_transform(X_train)\n",
    "X_test=scalar.fit_transform(X_test)"
   ]
  },
  {
   "cell_type": "code",
   "execution_count": null,
   "id": "1c2753d9",
   "metadata": {},
   "outputs": [],
   "source": [
    "X_train"
   ]
  },
  {
   "cell_type": "code",
   "execution_count": null,
   "id": "894f45d5",
   "metadata": {},
   "outputs": [],
   "source": [
    "X_test"
   ]
  },
  {
   "cell_type": "markdown",
   "id": "45f0484e",
   "metadata": {},
   "source": [
    "# Model  Fitting"
   ]
  },
  {
   "cell_type": "code",
   "execution_count": null,
   "id": "195def9c",
   "metadata": {},
   "outputs": [],
   "source": [
    "ran_reg=RandomForestRegressor(n_estimators=90,random_state=2)"
   ]
  },
  {
   "cell_type": "code",
   "execution_count": null,
   "id": "f3d30fcc",
   "metadata": {},
   "outputs": [],
   "source": [
    "ran_reg.fit(X_train,Y_train)"
   ]
  },
  {
   "cell_type": "code",
   "execution_count": null,
   "id": "75752c37",
   "metadata": {},
   "outputs": [],
   "source": [
    "res=ran_reg.predict(X_test) #res predicted yield and y_test original yield"
   ]
  },
  {
   "cell_type": "markdown",
   "id": "a3f18eb0",
   "metadata": {},
   "source": [
    "ERROR CALCULATION"
   ]
  },
  {
   "cell_type": "code",
   "execution_count": null,
   "id": "72c4d268",
   "metadata": {},
   "outputs": [],
   "source": [
    "print(mean_squared_error(res,Y_test))\n",
    "print(mean_absolute_error(res,Y_test))\n",
    "print(r2_score(res,Y_test))"
   ]
  },
  {
   "cell_type": "markdown",
   "id": "4ce35a13",
   "metadata": {},
   "source": [
    "# Analysis"
   ]
  },
  {
   "cell_type": "code",
   "execution_count": null,
   "id": "9751d96c",
   "metadata": {
    "scrolled": false
   },
   "outputs": [],
   "source": [
    "plt.scatter(x=Y_test,y=res)\n",
    "plt.show()"
   ]
  },
  {
   "cell_type": "code",
   "execution_count": null,
   "id": "97575fb5",
   "metadata": {},
   "outputs": [],
   "source": [
    "residuals=Y_test-res\n",
    "residuals"
   ]
  },
  {
   "cell_type": "code",
   "execution_count": null,
   "id": "66574374",
   "metadata": {},
   "outputs": [],
   "source": [
    "sns.displot(residuals,kind=\"kde\")\n",
    "plt.show()"
   ]
  },
  {
   "cell_type": "code",
   "execution_count": null,
   "id": "35a0b9c9",
   "metadata": {},
   "outputs": [],
   "source": [
    "plt.scatter(res,residuals)\n",
    "plt.show()"
   ]
  },
  {
   "cell_type": "code",
   "execution_count": null,
   "id": "cc29ea69",
   "metadata": {},
   "outputs": [],
   "source": []
  },
  {
   "cell_type": "code",
   "execution_count": null,
   "id": "88f5b5c7",
   "metadata": {},
   "outputs": [],
   "source": [
    "data.info()"
   ]
  },
  {
   "cell_type": "markdown",
   "id": "fa56b27c",
   "metadata": {},
   "source": [
    "# New Data Prediction"
   ]
  },
  {
   "cell_type": "code",
   "execution_count": null,
   "id": "b13e888f",
   "metadata": {},
   "outputs": [],
   "source": [
    "n=data.iloc[9876,:10]\n",
    "data.iloc[9876,:]"
   ]
  },
  {
   "cell_type": "code",
   "execution_count": null,
   "id": "5088d555",
   "metadata": {},
   "outputs": [],
   "source": [
    "def create_newdata(n):\n",
    "    features=['area',\n",
    "     'temperature',\n",
    "     'wind_speed',\n",
    "     'humidity',\n",
    "     'N',\n",
    "     'P',\n",
    "     'K',\n",
    "     '24 PARAGANAS NORTH',\n",
    "     '24 PARAGANAS SOUTH',\n",
    "     'ADILABAD',\n",
    "     'AGAR MALWA',\n",
    "     'AGRA',\n",
    "     'AHMADABAD',\n",
    "     'AHMEDNAGAR',\n",
    "     'AIZAWL',\n",
    "     'AJMER',\n",
    "     'AKOLA',\n",
    "     'ALAPPUZHA',\n",
    "     'ALIGARH',\n",
    "     'ALIRAJPUR',\n",
    "     'ALLAHABAD',\n",
    "     'ALMORA',\n",
    "     'ALWAR',\n",
    "     'AMBALA',\n",
    "     'AMBEDKAR NAGAR',\n",
    "     'AMETHI',\n",
    "     'AMRAVATI',\n",
    "     'AMRELI',\n",
    "     'AMRITSAR',\n",
    "     'AMROHA',\n",
    "     'ANAND',\n",
    "     'ANANTAPUR',\n",
    "     'ANANTNAG',\n",
    "     'ANJAW',\n",
    "     'ANUGUL',\n",
    "     'ANUPPUR',\n",
    "     'ARARIA',\n",
    "     'ARIYALUR',\n",
    "     'ARWAL',\n",
    "     'ASHOKNAGAR',\n",
    "     'AURAIYA',\n",
    "     'AURANGABAD',\n",
    "     'AZAMGARH',\n",
    "     'BADGAM',\n",
    "     'BAGALKOT',\n",
    "     'BAGESHWAR',\n",
    "     'BAGHPAT',\n",
    "     'BAHRAICH',\n",
    "     'BALAGHAT',\n",
    "     'BALANGIR',\n",
    "     'BALESHWAR',\n",
    "     'BALLIA',\n",
    "     'BALOD',\n",
    "     'BALODA BAZAR',\n",
    "     'BALRAMPUR',\n",
    "     'BANAS KANTHA',\n",
    "     'BANDA',\n",
    "     'BANDIPORA',\n",
    "     'BANGALORE RURAL',\n",
    "     'BANKA',\n",
    "     'BANKURA',\n",
    "     'BANSWARA',\n",
    "     'BARABANKI',\n",
    "     'BARAMULLA',\n",
    "     'BARAN',\n",
    "     'BARDHAMAN',\n",
    "     'BAREILLY',\n",
    "     'BARGARH',\n",
    "     'BARMER',\n",
    "     'BARNALA',\n",
    "     'BARPETA',\n",
    "     'BARWANI',\n",
    "     'BASTAR',\n",
    "     'BASTI',\n",
    "     'BATHINDA',\n",
    "     'BEED',\n",
    "     'BEGUSARAI',\n",
    "     'BELGAUM',\n",
    "     'BELLARY',\n",
    "     'BEMETARA',\n",
    "     'BENGALURU URBAN',\n",
    "     'BETUL',\n",
    "     'BHADRAK',\n",
    "     'BHAGALPUR',\n",
    "     'BHANDARA',\n",
    "     'BHARATPUR',\n",
    "     'BHARUCH',\n",
    "     'BHAVNAGAR',\n",
    "     'BHILWARA',\n",
    "     'BHIND',\n",
    "     'BHIWANI',\n",
    "     'BHOJPUR',\n",
    "     'BHOPAL',\n",
    "     'BIDAR',\n",
    "     'BIJAPUR',\n",
    "     'BIJNOR',\n",
    "     'BIKANER',\n",
    "     'BILASPUR',\n",
    "     'BIRBHUM',\n",
    "     'BISHNUPUR',\n",
    "     'BOKARO',\n",
    "     'BONGAIGAON',\n",
    "     'BOUDH',\n",
    "     'BUDAUN',\n",
    "     'BULANDSHAHR',\n",
    "     'BULDHANA',\n",
    "     'BUNDI',\n",
    "     'BURHANPUR',\n",
    "     'BUXAR',\n",
    "     'CACHAR',\n",
    "     'CHAMARAJANAGAR',\n",
    "     'CHAMBA',\n",
    "     'CHAMOLI',\n",
    "     'CHAMPAWAT',\n",
    "     'CHAMPHAI',\n",
    "     'CHANDAULI',\n",
    "     'CHANDEL',\n",
    "     'CHANDIGARH',\n",
    "     'CHANDRAPUR',\n",
    "     'CHANGLANG',\n",
    "     'CHATRA',\n",
    "     'CHHATARPUR',\n",
    "     'CHHINDWARA',\n",
    "     'CHIKBALLAPUR',\n",
    "     'CHIKMAGALUR',\n",
    "     'CHIRANG',\n",
    "     'CHITRADURGA',\n",
    "     'CHITRAKOOT',\n",
    "     'CHITTOOR',\n",
    "     'CHITTORGARH',\n",
    "     'CHURACHANDPUR',\n",
    "     'CHURU',\n",
    "     'COIMBATORE',\n",
    "     'COOCHBEHAR',\n",
    "     'CUDDALORE',\n",
    "     'CUTTACK',\n",
    "     'DADRA AND NAGAR HAVELI',\n",
    "     'DAKSHIN KANNAD',\n",
    "     'DAMOH',\n",
    "     'DANG',\n",
    "     'DANTEWADA',\n",
    "     'DARBHANGA',\n",
    "     'DARJEELING',\n",
    "     'DARRANG',\n",
    "     'DATIA',\n",
    "     'DAUSA',\n",
    "     'DAVANGERE',\n",
    "     'DEHRADUN',\n",
    "     'DEOGARH',\n",
    "     'DEOGHAR',\n",
    "     'DEORIA',\n",
    "     'DEWAS',\n",
    "     'DHALAI',\n",
    "     'DHAMTARI',\n",
    "     'DHANBAD',\n",
    "     'DHAR',\n",
    "     'DHARMAPURI',\n",
    "     'DHARWAD',\n",
    "     'DHEMAJI',\n",
    "     'DHENKANAL',\n",
    "     'DHOLPUR',\n",
    "     'DHUBRI',\n",
    "     'DHULE',\n",
    "     'DIBANG VALLEY',\n",
    "     'DIBRUGARH',\n",
    "     'DIMA HASAO',\n",
    "     'DIMAPUR',\n",
    "     'DINAJPUR DAKSHIN',\n",
    "     'DINAJPUR UTTAR',\n",
    "     'DINDIGUL',\n",
    "     'DINDORI',\n",
    "     'DODA',\n",
    "     'DOHAD',\n",
    "     'DUMKA',\n",
    "     'DUNGARPUR',\n",
    "     'DURG',\n",
    "     'EAST DISTRICT',\n",
    "     'EAST GARO HILLS',\n",
    "     'EAST GODAVARI',\n",
    "     'EAST JAINTIA HILLS',\n",
    "     'EAST KAMENG',\n",
    "     'EAST KHASI HILLS',\n",
    "     'EAST SIANG',\n",
    "     'EAST SINGHBUM',\n",
    "     'ERNAKULAM',\n",
    "     'ERODE',\n",
    "     'ETAH',\n",
    "     'ETAWAH',\n",
    "     'FAIZABAD',\n",
    "     'FARIDABAD',\n",
    "     'FARRUKHABAD',\n",
    "     'FATEHABAD',\n",
    "     'FATEHGARH SAHIB',\n",
    "     'FATEHPUR',\n",
    "     'FIROZABAD',\n",
    "     'FIROZEPUR',\n",
    "     'GADAG',\n",
    "     'GADCHIROLI',\n",
    "     'GAJAPATI',\n",
    "     'GANDERBAL',\n",
    "     'GANDHINAGAR',\n",
    "     'GANGANAGAR',\n",
    "     'GANJAM',\n",
    "     'GARHWA',\n",
    "     'GARIYABAND',\n",
    "     'GAUTAM BUDDHA NAGAR',\n",
    "     'GAYA',\n",
    "     'GHAZIABAD',\n",
    "     'GHAZIPUR',\n",
    "     'GIRIDIH',\n",
    "     'GOALPARA',\n",
    "     'GODDA',\n",
    "     'GOLAGHAT',\n",
    "     'GOMATI',\n",
    "     'GONDA',\n",
    "     'GONDIA',\n",
    "     'GOPALGANJ',\n",
    "     'GORAKHPUR',\n",
    "     'GULBARGA',\n",
    "     'GUMLA',\n",
    "     'GUNA',\n",
    "     'GUNTUR',\n",
    "     'GURDASPUR',\n",
    "     'GURGAON',\n",
    "     'GWALIOR',\n",
    "     'HAILAKANDI',\n",
    "     'HAMIRPUR',\n",
    "     'HANUMANGARH',\n",
    "     'HAPUR',\n",
    "     'HARDA',\n",
    "     'HARDOI',\n",
    "     'HARIDWAR',\n",
    "     'HASSAN',\n",
    "     'HATHRAS',\n",
    "     'HAVERI',\n",
    "     'HAZARIBAGH',\n",
    "     'HINGOLI',\n",
    "     'HISAR',\n",
    "     'HOOGHLY',\n",
    "     'HOSHANGABAD',\n",
    "     'HOWRAH',\n",
    "     'IDUKKI',\n",
    "     'IMPHAL EAST',\n",
    "     'IMPHAL WEST',\n",
    "     'INDORE',\n",
    "     'JABALPUR',\n",
    "     'JAGATSINGHAPUR',\n",
    "     'JAIPUR',\n",
    "     'JAISALMER',\n",
    "     'JAJAPUR',\n",
    "     'JALANDHAR',\n",
    "     'JALAUN',\n",
    "     'JALGAON',\n",
    "     'JALNA',\n",
    "     'JALORE',\n",
    "     'JALPAIGURI',\n",
    "     'JAMMU',\n",
    "     'JAMNAGAR',\n",
    "     'JAMTARA',\n",
    "     'JAMUI',\n",
    "     'JANJGIR-CHAMPA',\n",
    "     'JASHPUR',\n",
    "     'JAUNPUR',\n",
    "     'JEHANABAD',\n",
    "     'JHABUA',\n",
    "     'JHAJJAR',\n",
    "     'JHALAWAR',\n",
    "     'JHANSI',\n",
    "     'JHARSUGUDA',\n",
    "     'JHUNJHUNU',\n",
    "     'JIND',\n",
    "     'JODHPUR',\n",
    "     'JORHAT',\n",
    "     'JUNAGADH',\n",
    "     'KABIRDHAM',\n",
    "     'KACHCHH',\n",
    "     'KADAPA',\n",
    "     'KAIMUR (BHABUA)',\n",
    "     'KAITHAL',\n",
    "     'KALAHANDI',\n",
    "     'KAMRUP',\n",
    "     'KAMRUP METRO',\n",
    "     'KANCHIPURAM',\n",
    "     'KANDHAMAL',\n",
    "     'KANGRA',\n",
    "     'KANKER',\n",
    "     'KANNAUJ',\n",
    "     'KANNIYAKUMARI',\n",
    "     'KANNUR',\n",
    "     'KANPUR DEHAT',\n",
    "     'KANPUR NAGAR',\n",
    "     'KAPURTHALA',\n",
    "     'KARAIKAL',\n",
    "     'KARAULI',\n",
    "     'KARBI ANGLONG',\n",
    "     'KARGIL',\n",
    "     'KARIMGANJ',\n",
    "     'KARIMNAGAR',\n",
    "     'KARNAL',\n",
    "     'KARUR',\n",
    "     'KASARAGOD',\n",
    "     'KASGANJ',\n",
    "     'KATHUA',\n",
    "     'KATIHAR',\n",
    "     'KATNI',\n",
    "     'KAUSHAMBI',\n",
    "     'KENDRAPARA',\n",
    "     'KENDUJHAR',\n",
    "     'KHAGARIA',\n",
    "     'KHAMMAM',\n",
    "     'KHANDWA',\n",
    "     'KHARGONE',\n",
    "     'KHEDA',\n",
    "     'KHERI',\n",
    "     'KHORDHA',\n",
    "     'KHOWAI',\n",
    "     'KHUNTI',\n",
    "     'KINNAUR',\n",
    "     'KIPHIRE',\n",
    "     'KISHANGANJ',\n",
    "     'KISHTWAR',\n",
    "     'KODAGU',\n",
    "     'KODERMA',\n",
    "     'KOHIMA',\n",
    "     'KOKRAJHAR',\n",
    "     'KOLAR',\n",
    "     'KOLASIB',\n",
    "     'KOLHAPUR',\n",
    "     'KOLLAM',\n",
    "     'KONDAGAON',\n",
    "     'KOPPAL',\n",
    "     'KORAPUT',\n",
    "     'KORBA',\n",
    "     'KOREA',\n",
    "     'KOTA',\n",
    "     'KOTTAYAM',\n",
    "     'KOZHIKODE',\n",
    "     'KRISHNA',\n",
    "     'KRISHNAGIRI',\n",
    "     'KULGAM',\n",
    "     'KULLU',\n",
    "     'KUPWARA',\n",
    "     'KURNOOL',\n",
    "     'KURUKSHETRA',\n",
    "     'KURUNG KUMEY',\n",
    "     'KUSHI NAGAR',\n",
    "     'LAHUL AND SPITI',\n",
    "     'LAKHIMPUR',\n",
    "     'LAKHISARAI',\n",
    "     'LALITPUR',\n",
    "     'LATEHAR',\n",
    "     'LATUR',\n",
    "     'LAWNGTLAI',\n",
    "     'LEH LADAKH',\n",
    "     'LOHARDAGA',\n",
    "     'LOHIT',\n",
    "     'LONGDING',\n",
    "     'LONGLENG',\n",
    "     'LOWER DIBANG VALLEY',\n",
    "     'LOWER SUBANSIRI',\n",
    "     'LUCKNOW',\n",
    "     'LUDHIANA',\n",
    "     'LUNGLEI',\n",
    "     'MADHEPURA',\n",
    "     'MADHUBANI',\n",
    "     'MADURAI',\n",
    "     'MAHARAJGANJ',\n",
    "     'MAHASAMUND',\n",
    "     'MAHBUBNAGAR',\n",
    "     'MAHE',\n",
    "     'MAHENDRAGARH',\n",
    "     'MAHESANA',\n",
    "     'MAHOBA',\n",
    "     'MAINPURI',\n",
    "     'MALAPPURAM',\n",
    "     'MALDAH',\n",
    "     'MALKANGIRI',\n",
    "     'MAMIT',\n",
    "     'MANDI',\n",
    "     'MANDLA',\n",
    "     'MANDSAUR',\n",
    "     'MANDYA',\n",
    "     'MARIGAON',\n",
    "     'MATHURA',\n",
    "     'MAU',\n",
    "     'MAYURBHANJ',\n",
    "     'MEDAK',\n",
    "     'MEDINIPUR EAST',\n",
    "     'MEDINIPUR WEST',\n",
    "     'MEERUT',\n",
    "     'MEWAT',\n",
    "     'MIRZAPUR',\n",
    "     'MOGA',\n",
    "     'MOKOKCHUNG',\n",
    "     'MON',\n",
    "     'MORADABAD',\n",
    "     'MORENA',\n",
    "     'MUNGELI',\n",
    "     'MUNGER',\n",
    "     'MURSHIDABAD',\n",
    "     'MUZAFFARNAGAR',\n",
    "     'MUZAFFARPUR',\n",
    "     'MYSORE',\n",
    "     'NABARANGPUR',\n",
    "     'NADIA',\n",
    "     'NAGAON',\n",
    "     'NAGAPATTINAM',\n",
    "     'NAGAUR',\n",
    "     'NAGPUR',\n",
    "     'NAINITAL',\n",
    "     'NALANDA',\n",
    "     'NALBARI',\n",
    "     'NALGONDA',\n",
    "     'NAMAKKAL',\n",
    "     'NAMSAI',\n",
    "     'NANDED',\n",
    "     'NANDURBAR',\n",
    "     'NARAYANPUR',\n",
    "     'NARMADA',\n",
    "     'NARSINGHPUR',\n",
    "     'NASHIK',\n",
    "     'NAVSARI',\n",
    "     'NAWADA',\n",
    "     'NAYAGARH',\n",
    "     'NEEMUCH',\n",
    "     'NICOBARS',\n",
    "     'NIZAMABAD',\n",
    "     'NORTH AND MIDDLE ANDAMAN',\n",
    "     'NORTH DISTRICT',\n",
    "     'NORTH GARO HILLS',\n",
    "     'NORTH GOA',\n",
    "     'NORTH TRIPURA',\n",
    "     'NUAPADA',\n",
    "     'OSMANABAD',\n",
    "     'PAKUR',\n",
    "     'PALAKKAD',\n",
    "     'PALAMU',\n",
    "     'PALGHAR',\n",
    "     'PALI',\n",
    "     'PALWAL',\n",
    "     'PANCH MAHALS',\n",
    "     'PANCHKULA',\n",
    "     'PANIPAT',\n",
    "     'PANNA',\n",
    "     'PAPUM PARE',\n",
    "     'PARBHANI',\n",
    "     'PASHCHIM CHAMPARAN',\n",
    "     'PATAN',\n",
    "     'PATHANAMTHITTA',\n",
    "     'PATHANKOT',\n",
    "     'PATIALA',\n",
    "     'PATNA',\n",
    "     'PAURI GARHWAL',\n",
    "     'PERAMBALUR',\n",
    "     'PEREN',\n",
    "     'PHEK',\n",
    "     'PILIBHIT',\n",
    "     'PITHORAGARH',\n",
    "     'PONDICHERRY',\n",
    "     'POONCH',\n",
    "     'PORBANDAR',\n",
    "     'PRAKASAM',\n",
    "     'PRATAPGARH',\n",
    "     'PUDUKKOTTAI',\n",
    "     'PULWAMA',\n",
    "     'PUNE',\n",
    "     'PURBI CHAMPARAN',\n",
    "     'PURI',\n",
    "     'PURNIA',\n",
    "     'PURULIA',\n",
    "     'RAE BARELI',\n",
    "     'RAICHUR',\n",
    "     'RAIGAD',\n",
    "     'RAIGARH',\n",
    "     'RAIPUR',\n",
    "     'RAISEN',\n",
    "     'RAJAURI',\n",
    "     'RAJGARH',\n",
    "     'RAJKOT',\n",
    "     'RAJNANDGAON',\n",
    "     'RAJSAMAND',\n",
    "     'RAMANAGARA',\n",
    "     'RAMANATHAPURAM',\n",
    "     'RAMBAN',\n",
    "     'RAMGARH',\n",
    "     'RAMPUR',\n",
    "     'RANCHI',\n",
    "     'RANGAREDDI',\n",
    "     'RATLAM',\n",
    "     'RATNAGIRI',\n",
    "     'RAYAGADA',\n",
    "     'REASI',\n",
    "     'REWA',\n",
    "     'REWARI',\n",
    "     'RI BHOI',\n",
    "     'ROHTAK',\n",
    "     'ROHTAS',\n",
    "     'RUDRA PRAYAG',\n",
    "     'S.A.S NAGAR',\n",
    "     'SABAR KANTHA',\n",
    "     'SAGAR',\n",
    "     'SAHARANPUR',\n",
    "     'SAHARSA',\n",
    "     'SAHEBGANJ',\n",
    "     'SAIHA',\n",
    "     'SALEM',\n",
    "     'SAMASTIPUR',\n",
    "     'SAMBA',\n",
    "     'SAMBALPUR',\n",
    "     'SAMBHAL',\n",
    "     'SANGLI',\n",
    "     'SANGRUR',\n",
    "     'SANT KABEER NAGAR',\n",
    "     'SANT RAVIDAS NAGAR',\n",
    "     'SARAIKELA KHARSAWAN',\n",
    "     'SARAN',\n",
    "     'SATARA',\n",
    "     'SATNA',\n",
    "     'SAWAI MADHOPUR',\n",
    "     'SEHORE',\n",
    "     'SENAPATI',\n",
    "     'SEONI',\n",
    "     'SEPAHIJALA',\n",
    "     'SERCHHIP',\n",
    "     'SHAHDOL',\n",
    "     'SHAHJAHANPUR',\n",
    "     'SHAJAPUR',\n",
    "     'SHAMLI',\n",
    "     'SHEIKHPURA',\n",
    "     'SHEOHAR',\n",
    "     'SHEOPUR',\n",
    "     'SHIMLA',\n",
    "     'SHIMOGA',\n",
    "     'SHIVPURI',\n",
    "     'SHOPIAN',\n",
    "     'SHRAVASTI',\n",
    "     'SIDDHARTH NAGAR',\n",
    "     'SIDHI',\n",
    "     'SIKAR',\n",
    "     'SIMDEGA',\n",
    "     'SINDHUDURG',\n",
    "     'SINGRAULI',\n",
    "     'SIRMAUR',\n",
    "     'SIROHI',\n",
    "     'SIRSA',\n",
    "     'SITAMARHI',\n",
    "     'SITAPUR',\n",
    "     'SIVAGANGA',\n",
    "     'SIVASAGAR',\n",
    "     'SIWAN',\n",
    "     'SOLAN',\n",
    "     'SOLAPUR',\n",
    "     'SONBHADRA',\n",
    "     'SONEPUR',\n",
    "     'SONIPAT',\n",
    "     'SONITPUR',\n",
    "     'SOUTH ANDAMANS',\n",
    "     'SOUTH DISTRICT',\n",
    "     'SOUTH GARO HILLS',\n",
    "     'SOUTH GOA',\n",
    "     'SOUTH TRIPURA',\n",
    "     'SOUTH WEST GARO HILLS',\n",
    "     'SOUTH WEST KHASI HILLS',\n",
    "     'SPSR NELLORE',\n",
    "     'SRIKAKULAM',\n",
    "     'SRINAGAR',\n",
    "     'SUKMA',\n",
    "     'SULTANPUR',\n",
    "     'SUNDARGARH',\n",
    "     'SUPAUL',\n",
    "     'SURAJPUR',\n",
    "     'SURAT',\n",
    "     'SURENDRANAGAR',\n",
    "     'SURGUJA',\n",
    "     'TAMENGLONG',\n",
    "     'TAPI',\n",
    "     'TARN TARAN',\n",
    "     'TEHRI GARHWAL',\n",
    "     'THANE',\n",
    "     'THANJAVUR',\n",
    "     'THE NILGIRIS',\n",
    "     'THENI',\n",
    "     'THIRUVALLUR',\n",
    "     'THIRUVANANTHAPURAM',\n",
    "     'THIRUVARUR',\n",
    "     'THOUBAL',\n",
    "     'THRISSUR',\n",
    "     'TIKAMGARH',\n",
    "     'TINSUKIA',\n",
    "     'TIRAP',\n",
    "     'TIRUCHIRAPPALLI',\n",
    "     'TIRUNELVELI',\n",
    "     'TIRUPPUR',\n",
    "     'TIRUVANNAMALAI',\n",
    "     'TONK',\n",
    "     'TUENSANG',\n",
    "     'TUMKUR',\n",
    "     'TUTICORIN',\n",
    "     'UDAIPUR',\n",
    "     'UDALGURI',\n",
    "     'UDAM SINGH NAGAR',\n",
    "     'UDHAMPUR',\n",
    "     'UDUPI',\n",
    "     'UJJAIN',\n",
    "     'UKHRUL',\n",
    "     'UMARIA',\n",
    "     'UNA',\n",
    "     'UNAKOTI',\n",
    "     'UNNAO',\n",
    "     'UPPER SIANG',\n",
    "     'UPPER SUBANSIRI',\n",
    "     'UTTAR KANNAD',\n",
    "     'UTTAR KASHI',\n",
    "     'VADODARA',\n",
    "     'VAISHALI',\n",
    "     'VALSAD',\n",
    "     'VARANASI',\n",
    "     'VELLORE',\n",
    "     'VIDISHA',\n",
    "     'VILLUPURAM',\n",
    "     'VIRUDHUNAGAR',\n",
    "     'VISAKHAPATANAM',\n",
    "     'VIZIANAGARAM',\n",
    "     'WARANGAL',\n",
    "     'WARDHA',\n",
    "     'WASHIM',\n",
    "     'WAYANAD',\n",
    "     'WEST DISTRICT',\n",
    "     'WEST GARO HILLS',\n",
    "     'WEST GODAVARI',\n",
    "     'WEST JAINTIA HILLS',\n",
    "     'WEST KAMENG',\n",
    "     'WEST KHASI HILLS',\n",
    "     'WEST SIANG',\n",
    "     'WEST SINGHBHUM',\n",
    "     'WEST TRIPURA',\n",
    "     'WOKHA',\n",
    "     'YADGIR',\n",
    "     'YAMUNANAGAR',\n",
    "     'YANAM',\n",
    "     'YAVATMAL',\n",
    "     'ZUNHEBOTO',\n",
    "     'Banana',\n",
    "     'Cotton(lint)',\n",
    "     'Drum Stick',\n",
    "     'Maize',\n",
    "     'Onion',\n",
    "     'Potato',\n",
    "     'Ragi',\n",
    "     'Rice',\n",
    "     'Tomato',\n",
    "     'Andaman and Nicobar Islands',\n",
    "     'Andhra Pradesh',\n",
    "     'Arunachal Pradesh',\n",
    "     'Assam',\n",
    "     'Bihar',\n",
    "     'Chandigarh',\n",
    "     'Chhattisgarh',\n",
    "     'Dadra and Nagar Haveli',\n",
    "     'Goa',\n",
    "     'Gujarat',\n",
    "     'Haryana',\n",
    "     'Himachal Pradesh',\n",
    "     'Jammu and Kashmir ',\n",
    "     'Jharkhand',\n",
    "     'Karnataka',\n",
    "     'Kerala',\n",
    "     'Madhya Pradesh',\n",
    "     'Maharashtra',\n",
    "     'Manipur',\n",
    "     'Meghalaya',\n",
    "     'Mizoram',\n",
    "     'Nagaland',\n",
    "     'Odisha',\n",
    "     'Puducherry',\n",
    "     'Punjab',\n",
    "     'Rajasthan',\n",
    "     'Sikkim',\n",
    "     'Tamil Nadu',\n",
    "     'Telangana ',\n",
    "     'Tripura',\n",
    "     'Uttar Pradesh',\n",
    "     'Uttarakhand',\n",
    "     'West Bengal']\n",
    "    new_data=[0.]*len(features)\n",
    "    n=list(n)\n",
    "    for i in range(len(features)):\n",
    "        if(i<7):\n",
    "            new_data[i]=n[i+3]\n",
    "        else:\n",
    "            for j in range(3):\n",
    "                if(n[j]==features[i]):\n",
    "                    new_data[i]=1.\n",
    "#                     print(i)\n",
    "    new_data=np.array(new_data)\n",
    "    new_data=new_data.reshape(1,-1)\n",
    "    return (new_data)"
   ]
  },
  {
   "cell_type": "code",
   "execution_count": null,
   "id": "49ea8abb",
   "metadata": {},
   "outputs": [],
   "source": [
    "new_data=create_newdata(n)"
   ]
  },
  {
   "cell_type": "code",
   "execution_count": null,
   "id": "a45a979b",
   "metadata": {},
   "outputs": [],
   "source": [
    "new_data"
   ]
  },
  {
   "cell_type": "code",
   "execution_count": null,
   "id": "c0d4a2ab",
   "metadata": {},
   "outputs": [],
   "source": [
    "ran_reg.predict(scalar.transform(new_data))"
   ]
  },
  {
   "cell_type": "code",
   "execution_count": null,
   "id": "1e1c9143",
   "metadata": {},
   "outputs": [],
   "source": [
    "feature_list"
   ]
  },
  {
   "cell_type": "markdown",
   "id": "80dc0337",
   "metadata": {},
   "source": [
    "# Pickling of Model data"
   ]
  },
  {
   "cell_type": "code",
   "execution_count": null,
   "id": "b4ca6f37",
   "metadata": {},
   "outputs": [],
   "source": [
    "pickle.dump(ran_reg,open('regression.pkl','wb'))"
   ]
  },
  {
   "cell_type": "code",
   "execution_count": null,
   "id": "1739b577",
   "metadata": {},
   "outputs": [],
   "source": [
    "pickle.dump(scalar,open('scalar.pkl','wb'))"
   ]
  },
  {
   "cell_type": "code",
   "execution_count": null,
   "id": "81fee4ae",
   "metadata": {},
   "outputs": [],
   "source": []
  },
  {
   "cell_type": "code",
   "execution_count": null,
   "id": "76d558af",
   "metadata": {},
   "outputs": [],
   "source": []
  },
  {
   "cell_type": "code",
   "execution_count": null,
   "id": "49be3f52",
   "metadata": {},
   "outputs": [],
   "source": [
    "creat_data=pickle.load(open('newdata.pkl','rb'))"
   ]
  },
  {
   "cell_type": "code",
   "execution_count": null,
   "id": "77806ae5",
   "metadata": {},
   "outputs": [],
   "source": [
    "pickle_scalar=pickle.load(open('scalar.pkl','rb'))"
   ]
  },
  {
   "cell_type": "code",
   "execution_count": null,
   "id": "02d90c20",
   "metadata": {},
   "outputs": [],
   "source": [
    "pickle_reg=pickle.load(open('regression.pkl','rb'))"
   ]
  },
  {
   "cell_type": "code",
   "execution_count": null,
   "id": "db818857",
   "metadata": {},
   "outputs": [],
   "source": []
  },
  {
   "cell_type": "code",
   "execution_count": null,
   "id": "c6fa430e",
   "metadata": {},
   "outputs": [],
   "source": []
  },
  {
   "cell_type": "code",
   "execution_count": null,
   "id": "46193838",
   "metadata": {},
   "outputs": [],
   "source": [
    "xyz=creat_data(n)"
   ]
  },
  {
   "cell_type": "code",
   "execution_count": null,
   "id": "17c10af2",
   "metadata": {
    "scrolled": false
   },
   "outputs": [],
   "source": [
    "xyz=pickle_scalar.transform(xyz)"
   ]
  },
  {
   "cell_type": "code",
   "execution_count": null,
   "id": "cb70dab4",
   "metadata": {},
   "outputs": [],
   "source": [
    "pickle_reg.predict(xyz)"
   ]
  },
  {
   "cell_type": "code",
   "execution_count": null,
   "id": "b5f51625",
   "metadata": {},
   "outputs": [],
   "source": []
  }
 ],
 "metadata": {
  "kernelspec": {
   "display_name": "Python 3 (ipykernel)",
   "language": "python",
   "name": "python3"
  },
  "language_info": {
   "codemirror_mode": {
    "name": "ipython",
    "version": 3
   },
   "file_extension": ".py",
   "mimetype": "text/x-python",
   "name": "python",
   "nbconvert_exporter": "python",
   "pygments_lexer": "ipython3",
   "version": "3.9.13"
  },
  "vscode": {
   "interpreter": {
    "hash": "c261aea317cc0286b3b3261fbba9abdec21eaa57589985bb7a274bf54d6cc0a7"
   }
  }
 },
 "nbformat": 4,
 "nbformat_minor": 5
}
